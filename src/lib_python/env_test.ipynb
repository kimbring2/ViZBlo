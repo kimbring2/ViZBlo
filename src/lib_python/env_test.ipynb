{
 "cells": [
  {
   "cell_type": "code",
   "execution_count": null,
   "id": "455d78e3",
   "metadata": {},
   "outputs": [
    {
     "name": "stdout",
     "output_type": "stream",
     "text": [
      "Executable file location: /home/kimbring2/Twini-Golf/src/lib_python/twingolf\n",
      "TTF_init has failed. Error: \n",
      "Failed to load texture. Error: Couldn't open res/gfx/splashbg.png\n",
      "reward:  0.0\n",
      "reward:  0.0\n"
     ]
    }
   ],
   "source": [
    "import vizgolf as vzg\n",
    "import time\n",
    "import cv2\n",
    "import numpy as np\n",
    "import random\n",
    "\n",
    "game = vzg.GolfGame()\n",
    "\n",
    "game.add_available_button(vzg.Button.MOVE_FORWARD_BACKWARD_DELTA)\n",
    "game.add_available_button(vzg.Button.MOVE_LEFT_RIGHT_DELTA)\n",
    "game.add_available_button(vzg.Button.TURN_LEFT_RIGHT_DELTA)\n",
    "game.add_available_button(vzg.Button.LOOK_UP_DOWN_DELTA)\n",
    "\n",
    "game.init()\n",
    "\n",
    "game.update_state()\n",
    "state = game.get_state()\n",
    "\n",
    "for i in range(0, 500000):\n",
    "    x_action_float = random.uniform(-0.5, 0.5)\n",
    "    y_action_float = random.uniform(-0.5, 0.5)\n",
    "\n",
    "    x_action_string = \"{:+1.4f}\".format(x_action_float)\n",
    "\n",
    "    y_action_string = \"{:+1.4f}\".format(y_action_float)\n",
    "    action_string = \"1$\" + x_action_string + \"$\" + y_action_string + \"$\"\n",
    "\n",
    "    game.send_command(action_string)\n",
    "    \n",
    "    game.update_state()\n",
    "    state = game.get_state()\n",
    "    \n",
    "    screen_buffer = state.screen_buffer\n",
    "    \n",
    "    cv2.imshow(\"screen_buffer\", screen_buffer)\n",
    "    cv2.waitKey(1)\n",
    "    \n",
    "    reward = state.reward\n",
    "    \n",
    "    print(\"reward: \", reward)"
   ]
  },
  {
   "cell_type": "code",
   "execution_count": null,
   "id": "8baf7482",
   "metadata": {},
   "outputs": [],
   "source": []
  }
 ],
 "metadata": {
  "kernelspec": {
   "display_name": "py38",
   "language": "python",
   "name": "py38"
  },
  "language_info": {
   "codemirror_mode": {
    "name": "ipython",
    "version": 3
   },
   "file_extension": ".py",
   "mimetype": "text/x-python",
   "name": "python",
   "nbconvert_exporter": "python",
   "pygments_lexer": "ipython3",
   "version": "3.8.10"
  }
 },
 "nbformat": 4,
 "nbformat_minor": 5
}
